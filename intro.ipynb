{
 "cells": [
  {
   "cell_type": "markdown",
   "metadata": {},
   "source": [
    "Here is some introductory text"
   ]
  },
  {
   "cell_type": "markdown",
   "metadata": {},
   "source": [
    "Now let's install the [`twarc`](https://github.com/DocNow/twarc) Python library.  We'll be using this to \"rehydrate\" our tweets."
   ]
  },
  {
   "cell_type": "code",
   "execution_count": 1,
   "metadata": {
    "collapsed": false
   },
   "outputs": [
    {
     "name": "stdout",
     "output_type": "stream",
     "text": [
      "Requirement already satisfied: twarc in /Users/kerchner/anaconda/lib/python3.6/site-packages\n",
      "Requirement already satisfied: python-dateutil in /Users/kerchner/anaconda/lib/python3.6/site-packages (from twarc)\n",
      "Requirement already satisfied: requests-oauthlib in /Users/kerchner/anaconda/lib/python3.6/site-packages (from twarc)\n",
      "Requirement already satisfied: pytest in /Users/kerchner/anaconda/lib/python3.6/site-packages (from twarc)\n",
      "Requirement already satisfied: six>=1.5 in /Users/kerchner/anaconda/lib/python3.6/site-packages (from python-dateutil->twarc)\n",
      "Requirement already satisfied: oauthlib>=0.6.2 in /Users/kerchner/anaconda/lib/python3.6/site-packages (from requests-oauthlib->twarc)\n",
      "Requirement already satisfied: requests>=2.0.0 in /Users/kerchner/anaconda/lib/python3.6/site-packages (from requests-oauthlib->twarc)\n",
      "Requirement already satisfied: py>=1.4.29 in /Users/kerchner/anaconda/lib/python3.6/site-packages (from pytest->twarc)\n"
     ]
    }
   ],
   "source": [
    "!pip install twarc"
   ]
  },
  {
   "cell_type": "code",
   "execution_count": 2,
   "metadata": {
    "collapsed": true
   },
   "outputs": [],
   "source": [
    "tweetidsfile = open('data/hpv_tweet_ids.txt', 'r')"
   ]
  },
  {
   "cell_type": "code",
   "execution_count": 3,
   "metadata": {
    "collapsed": true
   },
   "outputs": [],
   "source": [
    "tweetidlist = []\n",
    "for tweetid in tweetidsfile:\n",
    "    tweetidlist += [tweetid.rstrip('\\n')]"
   ]
  },
  {
   "cell_type": "markdown",
   "metadata": {},
   "source": [
    "How many do we have?"
   ]
  },
  {
   "cell_type": "code",
   "execution_count": 4,
   "metadata": {
    "collapsed": false
   },
   "outputs": [
    {
     "data": {
      "text/plain": [
       "68136"
      ]
     },
     "execution_count": 4,
     "metadata": {},
     "output_type": "execute_result"
    }
   ],
   "source": [
    "len(tweetidlist)"
   ]
  },
  {
   "cell_type": "code",
   "execution_count": 5,
   "metadata": {
    "collapsed": false
   },
   "outputs": [
    {
     "data": {
      "text/plain": [
       "['840047342346616833',\n",
       " '840047709268631552',\n",
       " '840047979922894849',\n",
       " '840051880415903744',\n",
       " '840052620827987968',\n",
       " '840052809236021248',\n",
       " '840053141756366850',\n",
       " '840053165366079488',\n",
       " '840039634570752000',\n",
       " '840039684399030272']"
      ]
     },
     "execution_count": 5,
     "metadata": {},
     "output_type": "execute_result"
    }
   ],
   "source": [
    "tweetidlist[:10]"
   ]
  },
  {
   "cell_type": "code",
   "execution_count": 6,
   "metadata": {
    "collapsed": true
   },
   "outputs": [],
   "source": [
    "from twarc import Twarc"
   ]
  },
  {
   "cell_type": "markdown",
   "metadata": {},
   "source": [
    "Here's where you'll need to put in your Twitter credentials:  (Add explanation for how to acquire these, and why it's needed here)"
   ]
  },
  {
   "cell_type": "code",
   "execution_count": 7,
   "metadata": {
    "collapsed": true
   },
   "outputs": [],
   "source": [
    "consumer_key = 'yJXixy9ouOWt7W5FlzPFcE5iZ'\n",
    "consumer_secret = '8uY6HE1vJgu54Zm86FmYMwHRNgJ69PnOZO9y4i0ze8xhm4dARh'\n",
    "access_token = '1934797142-USsQZZd7uaTpUbQaQXNTumc6gmIH3LcW9VcZu5Q'\n",
    "access_token_secret = 'SCeipccEr6bfvRoVvhbHLFcjANxO7zyfXfoBocOqkkIis'\n",
    "\n",
    "t = Twarc(consumer_key, consumer_secret, access_token, access_token_secret)"
   ]
  },
  {
   "cell_type": "markdown",
   "metadata": {},
   "source": [
    "Let's just take the first 10 tweets, to keep processing time minimal"
   ]
  },
  {
   "cell_type": "code",
   "execution_count": 8,
   "metadata": {
    "collapsed": false
   },
   "outputs": [],
   "source": [
    "tweetids_subset = tweetidlist[:10]\n",
    "tweetjsons = [tweet for tweet in t.hydrate(iter(tweetids_subset))]"
   ]
  },
  {
   "cell_type": "code",
   "execution_count": 9,
   "metadata": {
    "collapsed": false
   },
   "outputs": [
    {
     "data": {
      "text/plain": [
       "{'contributors': None,\n",
       " 'coordinates': None,\n",
       " 'created_at': 'Fri Mar 10 04:14:11 +0000 2017',\n",
       " 'display_text_range': [0, 127],\n",
       " 'entities': {'hashtags': [{'indices': [43, 47], 'text': 'HPV'},\n",
       "   {'indices': [114, 127], 'text': 'GenitalWarts'}],\n",
       "  'symbols': [],\n",
       "  'urls': [],\n",
       "  'user_mentions': []},\n",
       " 'favorite_count': 0,\n",
       " 'favorited': False,\n",
       " 'full_text': 'Children are more likely to be infected by #HPV types that cause warts elsewhere on the body (\"cutaneous types\"). #GenitalWarts',\n",
       " 'geo': None,\n",
       " 'id': 840053141756366850,\n",
       " 'id_str': '840053141756366850',\n",
       " 'in_reply_to_screen_name': None,\n",
       " 'in_reply_to_status_id': None,\n",
       " 'in_reply_to_status_id_str': None,\n",
       " 'in_reply_to_user_id': None,\n",
       " 'in_reply_to_user_id_str': None,\n",
       " 'is_quote_status': False,\n",
       " 'lang': 'en',\n",
       " 'place': None,\n",
       " 'retweet_count': 0,\n",
       " 'retweeted': False,\n",
       " 'source': '<a href=\"http://www.childrensorthopaedics.com\" rel=\"nofollow\">OrthopApp</a>',\n",
       " 'truncated': False,\n",
       " 'user': {'contributors_enabled': False,\n",
       "  'created_at': 'Sat Apr 26 07:30:50 +0000 2014',\n",
       "  'default_profile': False,\n",
       "  'default_profile_image': False,\n",
       "  'description': 'Destroy Your Genital Warts Once And For All',\n",
       "  'entities': {'description': {'urls': []},\n",
       "   'url': {'urls': [{'display_url': 'bit.ly/genitalwartsan…',\n",
       "      'expanded_url': 'http://bit.ly/genitalwartsandherpes',\n",
       "      'indices': [0, 23],\n",
       "      'url': 'https://t.co/qybkd6Wsda'}]}},\n",
       "  'favourites_count': 0,\n",
       "  'follow_request_sent': False,\n",
       "  'followers_count': 492,\n",
       "  'following': False,\n",
       "  'friends_count': 1871,\n",
       "  'geo_enabled': False,\n",
       "  'has_extended_profile': False,\n",
       "  'id': 2464259065,\n",
       "  'id_str': '2464259065',\n",
       "  'is_translation_enabled': False,\n",
       "  'is_translator': False,\n",
       "  'lang': 'en',\n",
       "  'listed_count': 8,\n",
       "  'location': 'Newcastle',\n",
       "  'name': 'Genital Warts Fix',\n",
       "  'notifications': False,\n",
       "  'profile_background_color': 'B2DFDA',\n",
       "  'profile_background_image_url': 'http://abs.twimg.com/images/themes/theme13/bg.gif',\n",
       "  'profile_background_image_url_https': 'https://abs.twimg.com/images/themes/theme13/bg.gif',\n",
       "  'profile_background_tile': False,\n",
       "  'profile_image_url': 'http://pbs.twimg.com/profile_images/553324095475957760/TjPLrx3E_normal.jpeg',\n",
       "  'profile_image_url_https': 'https://pbs.twimg.com/profile_images/553324095475957760/TjPLrx3E_normal.jpeg',\n",
       "  'profile_link_color': '93A644',\n",
       "  'profile_sidebar_border_color': 'EEEEEE',\n",
       "  'profile_sidebar_fill_color': 'FFFFFF',\n",
       "  'profile_text_color': '333333',\n",
       "  'profile_use_background_image': True,\n",
       "  'protected': False,\n",
       "  'screen_name': 'GenitalWartsFix',\n",
       "  'statuses_count': 22959,\n",
       "  'time_zone': 'Kyiv',\n",
       "  'translator_type': 'none',\n",
       "  'url': 'https://t.co/qybkd6Wsda',\n",
       "  'utc_offset': 7200,\n",
       "  'verified': False}}"
      ]
     },
     "execution_count": 9,
     "metadata": {},
     "output_type": "execute_result"
    }
   ],
   "source": [
    "tweetjsons[0]"
   ]
  },
  {
   "cell_type": "code",
   "execution_count": 10,
   "metadata": {
    "collapsed": false
   },
   "outputs": [],
   "source": [
    "import pandas as pd"
   ]
  },
  {
   "cell_type": "code",
   "execution_count": 11,
   "metadata": {
    "collapsed": false
   },
   "outputs": [],
   "source": [
    "tweets_df = pd.DataFrame(tweetjsons)"
   ]
  },
  {
   "cell_type": "code",
   "execution_count": 12,
   "metadata": {
    "collapsed": false
   },
   "outputs": [
    {
     "data": {
      "text/html": [
       "<div>\n",
       "<table border=\"1\" class=\"dataframe\">\n",
       "  <thead>\n",
       "    <tr style=\"text-align: right;\">\n",
       "      <th></th>\n",
       "      <th>contributors</th>\n",
       "      <th>coordinates</th>\n",
       "      <th>created_at</th>\n",
       "      <th>display_text_range</th>\n",
       "      <th>entities</th>\n",
       "      <th>favorite_count</th>\n",
       "      <th>favorited</th>\n",
       "      <th>full_text</th>\n",
       "      <th>geo</th>\n",
       "      <th>id</th>\n",
       "      <th>...</th>\n",
       "      <th>is_quote_status</th>\n",
       "      <th>lang</th>\n",
       "      <th>place</th>\n",
       "      <th>possibly_sensitive</th>\n",
       "      <th>retweet_count</th>\n",
       "      <th>retweeted</th>\n",
       "      <th>retweeted_status</th>\n",
       "      <th>source</th>\n",
       "      <th>truncated</th>\n",
       "      <th>user</th>\n",
       "    </tr>\n",
       "  </thead>\n",
       "  <tbody>\n",
       "    <tr>\n",
       "      <th>0</th>\n",
       "      <td>None</td>\n",
       "      <td>None</td>\n",
       "      <td>Fri Mar 10 04:14:11 +0000 2017</td>\n",
       "      <td>[0, 127]</td>\n",
       "      <td>{'hashtags': [{'text': 'HPV', 'indices': [43, ...</td>\n",
       "      <td>0</td>\n",
       "      <td>False</td>\n",
       "      <td>Children are more likely to be infected by #HP...</td>\n",
       "      <td>None</td>\n",
       "      <td>840053141756366850</td>\n",
       "      <td>...</td>\n",
       "      <td>False</td>\n",
       "      <td>en</td>\n",
       "      <td>None</td>\n",
       "      <td>NaN</td>\n",
       "      <td>0</td>\n",
       "      <td>False</td>\n",
       "      <td>NaN</td>\n",
       "      <td>&lt;a href=\"http://www.childrensorthopaedics.com\"...</td>\n",
       "      <td>False</td>\n",
       "      <td>{'id': 2464259065, 'id_str': '2464259065', 'na...</td>\n",
       "    </tr>\n",
       "    <tr>\n",
       "      <th>1</th>\n",
       "      <td>None</td>\n",
       "      <td>None</td>\n",
       "      <td>Fri Mar 10 04:12:06 +0000 2017</td>\n",
       "      <td>[0, 144]</td>\n",
       "      <td>{'hashtags': [{'text': 'STUDY', 'indices': [14...</td>\n",
       "      <td>0</td>\n",
       "      <td>False</td>\n",
       "      <td>RT @LotusOak: #STUDY: Behavioral abnormalities...</td>\n",
       "      <td>None</td>\n",
       "      <td>840052620827987968</td>\n",
       "      <td>...</td>\n",
       "      <td>False</td>\n",
       "      <td>en</td>\n",
       "      <td>None</td>\n",
       "      <td>NaN</td>\n",
       "      <td>14</td>\n",
       "      <td>False</td>\n",
       "      <td>{'created_at': 'Thu Mar 09 22:02:00 +0000 2017...</td>\n",
       "      <td>&lt;a href=\"http://twitter.com/download/android\" ...</td>\n",
       "      <td>False</td>\n",
       "      <td>{'id': 755086745847394305, 'id_str': '75508674...</td>\n",
       "    </tr>\n",
       "    <tr>\n",
       "      <th>2</th>\n",
       "      <td>None</td>\n",
       "      <td>None</td>\n",
       "      <td>Fri Mar 10 03:20:42 +0000 2017</td>\n",
       "      <td>[0, 123]</td>\n",
       "      <td>{'hashtags': [{'text': 'Abnormal', 'indices': ...</td>\n",
       "      <td>0</td>\n",
       "      <td>False</td>\n",
       "      <td>#Abnormal #CervicalCancer #CT #Darah #DES #Efe...</td>\n",
       "      <td>None</td>\n",
       "      <td>840039684399030272</td>\n",
       "      <td>...</td>\n",
       "      <td>False</td>\n",
       "      <td>et</td>\n",
       "      <td>None</td>\n",
       "      <td>False</td>\n",
       "      <td>0</td>\n",
       "      <td>False</td>\n",
       "      <td>NaN</td>\n",
       "      <td>&lt;a href=\"http://www.doktercilik.com/\" rel=\"nof...</td>\n",
       "      <td>False</td>\n",
       "      <td>{'id': 2932642548, 'id_str': '2932642548', 'na...</td>\n",
       "    </tr>\n",
       "    <tr>\n",
       "      <th>3</th>\n",
       "      <td>None</td>\n",
       "      <td>None</td>\n",
       "      <td>Fri Mar 10 03:51:08 +0000 2017</td>\n",
       "      <td>[0, 148]</td>\n",
       "      <td>{'hashtags': [{'text': 'STUDY', 'indices': [14...</td>\n",
       "      <td>0</td>\n",
       "      <td>False</td>\n",
       "      <td>RT @LotusOak: #STUDY: #Gardasil Via Its #Alum ...</td>\n",
       "      <td>None</td>\n",
       "      <td>840047342346616833</td>\n",
       "      <td>...</td>\n",
       "      <td>False</td>\n",
       "      <td>en</td>\n",
       "      <td>None</td>\n",
       "      <td>NaN</td>\n",
       "      <td>13</td>\n",
       "      <td>False</td>\n",
       "      <td>{'created_at': 'Fri Mar 10 02:51:38 +0000 2017...</td>\n",
       "      <td>&lt;a href=\"http://twitter.com\" rel=\"nofollow\"&gt;Tw...</td>\n",
       "      <td>False</td>\n",
       "      <td>{'id': 814312202, 'id_str': '814312202', 'name...</td>\n",
       "    </tr>\n",
       "    <tr>\n",
       "      <th>4</th>\n",
       "      <td>None</td>\n",
       "      <td>None</td>\n",
       "      <td>Fri Mar 10 04:12:51 +0000 2017</td>\n",
       "      <td>[0, 127]</td>\n",
       "      <td>{'hashtags': [{'text': 'hpv', 'indices': [0, 4...</td>\n",
       "      <td>12</td>\n",
       "      <td>False</td>\n",
       "      <td>#hpv #Vaccines Not Linked to Autoimmune Diseas...</td>\n",
       "      <td>None</td>\n",
       "      <td>840052809236021248</td>\n",
       "      <td>...</td>\n",
       "      <td>False</td>\n",
       "      <td>en</td>\n",
       "      <td>None</td>\n",
       "      <td>False</td>\n",
       "      <td>10</td>\n",
       "      <td>False</td>\n",
       "      <td>NaN</td>\n",
       "      <td>&lt;a href=\"http://twitter.com/download/iphone\" r...</td>\n",
       "      <td>False</td>\n",
       "      <td>{'id': 54886540, 'id_str': '54886540', 'name':...</td>\n",
       "    </tr>\n",
       "    <tr>\n",
       "      <th>5</th>\n",
       "      <td>None</td>\n",
       "      <td>None</td>\n",
       "      <td>Fri Mar 10 04:14:16 +0000 2017</td>\n",
       "      <td>[0, 65]</td>\n",
       "      <td>{'hashtags': [{'text': 'hpv', 'indices': [0, 4...</td>\n",
       "      <td>0</td>\n",
       "      <td>False</td>\n",
       "      <td>#hpv no sex woman unknown fucked by black http...</td>\n",
       "      <td>None</td>\n",
       "      <td>840053165366079488</td>\n",
       "      <td>...</td>\n",
       "      <td>False</td>\n",
       "      <td>en</td>\n",
       "      <td>None</td>\n",
       "      <td>False</td>\n",
       "      <td>0</td>\n",
       "      <td>False</td>\n",
       "      <td>NaN</td>\n",
       "      <td>&lt;a href=\"http://twitter.com\" rel=\"nofollow\"&gt;Tw...</td>\n",
       "      <td>False</td>\n",
       "      <td>{'id': 297319651, 'id_str': '297319651', 'name...</td>\n",
       "    </tr>\n",
       "    <tr>\n",
       "      <th>6</th>\n",
       "      <td>None</td>\n",
       "      <td>None</td>\n",
       "      <td>Fri Mar 10 03:53:40 +0000 2017</td>\n",
       "      <td>[0, 140]</td>\n",
       "      <td>{'hashtags': [{'text': 'HPV', 'indices': [34, ...</td>\n",
       "      <td>0</td>\n",
       "      <td>False</td>\n",
       "      <td>RT @LotusOak: Spanish court links #HPV vaccina...</td>\n",
       "      <td>None</td>\n",
       "      <td>840047979922894849</td>\n",
       "      <td>...</td>\n",
       "      <td>False</td>\n",
       "      <td>en</td>\n",
       "      <td>None</td>\n",
       "      <td>False</td>\n",
       "      <td>41</td>\n",
       "      <td>False</td>\n",
       "      <td>{'created_at': 'Thu Mar 09 19:30:59 +0000 2017...</td>\n",
       "      <td>&lt;a href=\"http://twitter.com\" rel=\"nofollow\"&gt;Tw...</td>\n",
       "      <td>False</td>\n",
       "      <td>{'id': 367750490, 'id_str': '367750490', 'name...</td>\n",
       "    </tr>\n",
       "  </tbody>\n",
       "</table>\n",
       "<p>7 rows × 26 columns</p>\n",
       "</div>"
      ],
      "text/plain": [
       "  contributors coordinates                      created_at display_text_range  \\\n",
       "0         None        None  Fri Mar 10 04:14:11 +0000 2017           [0, 127]   \n",
       "1         None        None  Fri Mar 10 04:12:06 +0000 2017           [0, 144]   \n",
       "2         None        None  Fri Mar 10 03:20:42 +0000 2017           [0, 123]   \n",
       "3         None        None  Fri Mar 10 03:51:08 +0000 2017           [0, 148]   \n",
       "4         None        None  Fri Mar 10 04:12:51 +0000 2017           [0, 127]   \n",
       "5         None        None  Fri Mar 10 04:14:16 +0000 2017            [0, 65]   \n",
       "6         None        None  Fri Mar 10 03:53:40 +0000 2017           [0, 140]   \n",
       "\n",
       "                                            entities  favorite_count  \\\n",
       "0  {'hashtags': [{'text': 'HPV', 'indices': [43, ...               0   \n",
       "1  {'hashtags': [{'text': 'STUDY', 'indices': [14...               0   \n",
       "2  {'hashtags': [{'text': 'Abnormal', 'indices': ...               0   \n",
       "3  {'hashtags': [{'text': 'STUDY', 'indices': [14...               0   \n",
       "4  {'hashtags': [{'text': 'hpv', 'indices': [0, 4...              12   \n",
       "5  {'hashtags': [{'text': 'hpv', 'indices': [0, 4...               0   \n",
       "6  {'hashtags': [{'text': 'HPV', 'indices': [34, ...               0   \n",
       "\n",
       "  favorited                                          full_text   geo  \\\n",
       "0     False  Children are more likely to be infected by #HP...  None   \n",
       "1     False  RT @LotusOak: #STUDY: Behavioral abnormalities...  None   \n",
       "2     False  #Abnormal #CervicalCancer #CT #Darah #DES #Efe...  None   \n",
       "3     False  RT @LotusOak: #STUDY: #Gardasil Via Its #Alum ...  None   \n",
       "4     False  #hpv #Vaccines Not Linked to Autoimmune Diseas...  None   \n",
       "5     False  #hpv no sex woman unknown fucked by black http...  None   \n",
       "6     False  RT @LotusOak: Spanish court links #HPV vaccina...  None   \n",
       "\n",
       "                   id                        ...                          \\\n",
       "0  840053141756366850                        ...                           \n",
       "1  840052620827987968                        ...                           \n",
       "2  840039684399030272                        ...                           \n",
       "3  840047342346616833                        ...                           \n",
       "4  840052809236021248                        ...                           \n",
       "5  840053165366079488                        ...                           \n",
       "6  840047979922894849                        ...                           \n",
       "\n",
       "  is_quote_status lang place possibly_sensitive retweet_count retweeted  \\\n",
       "0           False   en  None                NaN             0     False   \n",
       "1           False   en  None                NaN            14     False   \n",
       "2           False   et  None              False             0     False   \n",
       "3           False   en  None                NaN            13     False   \n",
       "4           False   en  None              False            10     False   \n",
       "5           False   en  None              False             0     False   \n",
       "6           False   en  None              False            41     False   \n",
       "\n",
       "                                    retweeted_status  \\\n",
       "0                                                NaN   \n",
       "1  {'created_at': 'Thu Mar 09 22:02:00 +0000 2017...   \n",
       "2                                                NaN   \n",
       "3  {'created_at': 'Fri Mar 10 02:51:38 +0000 2017...   \n",
       "4                                                NaN   \n",
       "5                                                NaN   \n",
       "6  {'created_at': 'Thu Mar 09 19:30:59 +0000 2017...   \n",
       "\n",
       "                                              source truncated  \\\n",
       "0  <a href=\"http://www.childrensorthopaedics.com\"...     False   \n",
       "1  <a href=\"http://twitter.com/download/android\" ...     False   \n",
       "2  <a href=\"http://www.doktercilik.com/\" rel=\"nof...     False   \n",
       "3  <a href=\"http://twitter.com\" rel=\"nofollow\">Tw...     False   \n",
       "4  <a href=\"http://twitter.com/download/iphone\" r...     False   \n",
       "5  <a href=\"http://twitter.com\" rel=\"nofollow\">Tw...     False   \n",
       "6  <a href=\"http://twitter.com\" rel=\"nofollow\">Tw...     False   \n",
       "\n",
       "                                                user  \n",
       "0  {'id': 2464259065, 'id_str': '2464259065', 'na...  \n",
       "1  {'id': 755086745847394305, 'id_str': '75508674...  \n",
       "2  {'id': 2932642548, 'id_str': '2932642548', 'na...  \n",
       "3  {'id': 814312202, 'id_str': '814312202', 'name...  \n",
       "4  {'id': 54886540, 'id_str': '54886540', 'name':...  \n",
       "5  {'id': 297319651, 'id_str': '297319651', 'name...  \n",
       "6  {'id': 367750490, 'id_str': '367750490', 'name...  \n",
       "\n",
       "[7 rows x 26 columns]"
      ]
     },
     "execution_count": 12,
     "metadata": {},
     "output_type": "execute_result"
    }
   ],
   "source": [
    "tweets_df"
   ]
  },
  {
   "cell_type": "code",
   "execution_count": null,
   "metadata": {
    "collapsed": true
   },
   "outputs": [],
   "source": []
  }
 ],
 "metadata": {
  "kernelspec": {
   "display_name": "Python 3",
   "language": "python",
   "name": "python3"
  },
  "language_info": {
   "codemirror_mode": {
    "name": "ipython",
    "version": 3
   },
   "file_extension": ".py",
   "mimetype": "text/x-python",
   "name": "python",
   "nbconvert_exporter": "python",
   "pygments_lexer": "ipython3",
   "version": "3.6.0"
  }
 },
 "nbformat": 4,
 "nbformat_minor": 2
}
